{
 "cells": [
  {
   "cell_type": "markdown",
   "metadata": {},
   "source": [
    "# Decorador\n",
    "https://www.youtube.com/watch?v=DlGPvq9r6Q4\n",
    "\n"
   ]
  },
  {
   "cell_type": "code",
   "execution_count": null,
   "metadata": {},
   "outputs": [],
   "source": [
    "# Esto es un callback o decorador en crudo\n",
    "\n",
    "def get_square(val):\n",
    "\treturn val ** 2\n",
    "\n",
    "def caller (func, val):\n",
    "\treturn func(val)\n",
    "\n",
    "caller(get_square, 5)\n"
   ]
  },
  {
   "cell_type": "markdown",
   "metadata": {},
   "source": [
    "\n",
    "--------------------------------------------\n",
    "\n",
    "Los decoradores son funciones que toman otra función como argumento y extienden o modifican el comportamiento de esa función sin modificar su \n",
    "código fuente directamente. \n",
    "\n",
    "Puedes crear tus propios decoradores personalizados para aplicar ciertas acciones o cambios a funciones específicas. \n",
    "\n"
   ]
  },
  {
   "cell_type": "code",
   "execution_count": null,
   "metadata": {},
   "outputs": [],
   "source": [
    "\n",
    "# Definición de un decorador personalizado\n",
    "def mi_decorador(funcion):\n",
    "    def wrapper(*args, **kwargs):\n",
    "        print(\"Antes de ejecutar la función\")\n",
    "        resultado = funcion(*args, **kwargs)\n",
    "        print(\"Después de ejecutar la función\")\n",
    "        return resultado\n",
    "    return wrapper\n",
    "\n",
    "# Uso del decorador\n",
    "@mi_decorador\n",
    "def mi_funcion():\n",
    "    print(\"Ejecutando la función\")\n",
    "\n",
    "# Llamada a la función decorada\n",
    "mi_funcion()\n"
   ]
  },
  {
   "cell_type": "code",
   "execution_count": null,
   "metadata": {},
   "outputs": [],
   "source": [
    "\n",
    "#----------------------------------------------\n",
    "# Crea un decorador que eleve un valor al cuadrado.\n",
    "def cuadrado(func):\n",
    "    def wrapper(val):\n",
    "        return func(val) ** 2\n",
    "    return wrapper\n",
    "\n",
    "@cuadrado\n",
    "def get_square(val):\n",
    "    return val\n",
    "\n",
    "print(get_square(5))\n"
   ]
  },
  {
   "cell_type": "markdown",
   "metadata": {},
   "source": [
    "\n",
    "## Situaciones utiles\n",
    "\n",
    "Los decoradores son útiles en situaciones donde deseas agregar funcionalidades comunes a varias funciones o mo métodos sin repetir el mismo ódigo en cada uno de ellos. Aquí hay algunos ejemplos de situaciones en las que los decoradores pueden ser beneficiosos:\n",
    "\n",
    "### Registro y seguimiento de tiempo de ejecución:\n",
    "Puedes usar un decorador para medir y registrar el tiempo que lleva ejecutar una función. \n",
    "\n",
    "Esto puede ser útil para el análisis de rendimiento.\n"
   ]
  },
  {
   "cell_type": "code",
   "execution_count": null,
   "metadata": {},
   "outputs": [],
   "source": [
    "\n",
    "import time\n",
    "\n",
    "def tiempo_de_ejecucion(funcion):\n",
    "    def wrapper(*args, **kwargs):\n",
    "        inicio = time.time()\n",
    "        resultado = funcion(*args, **kwargs)\n",
    "        fin = time.time()\n",
    "        print(f\"{funcion.__name__} tardó {fin - inicio} segundos en ejecutarse\")\n",
    "        return resultado\n",
    "    return wrapper\n",
    "\n",
    "@tiempo_de_ejecucion\n",
    "def funcion_lenta():\n",
    "    time.sleep(2)\n",
    "    print(\"Función ejecutada\")\n",
    "\n",
    "funcion_lenta()\n"
   ]
  },
  {
   "cell_type": "markdown",
   "metadata": {},
   "source": [
    "\n",
    "### Autenticación y autorización:\n",
    "\n",
    "Puedes usar un decorador para verificar la autenticación o autorización antes de permitir que una función se ejecute.\n"
   ]
  },
  {
   "cell_type": "code",
   "execution_count": null,
   "metadata": {},
   "outputs": [],
   "source": [
    "\n",
    "def requiere_autenticacion(funcion):\n",
    "    def wrapper(*args, **kwargs):\n",
    "        # Verificar la autenticación aquí\n",
    "        usuario_autenticado = True\n",
    "        if usuario_autenticado:\n",
    "            return funcion(*args, **kwargs)\n",
    "        else:\n",
    "            print(\"Usuario no autenticado\")\n",
    "    return wrapper\n",
    "\n",
    "@requiere_autenticacion\n",
    "def funcion_privada():\n",
    "    print(\"Función ejecutada\")\n",
    "\n",
    "funcion_privada()\n"
   ]
  },
  {
   "cell_type": "markdown",
   "metadata": {},
   "source": [
    "### Registro de errores:\n",
    "\n",
    "Puedes usar un decorador para manejar y registrar errores en funciones críticas.\n"
   ]
  },
  {
   "cell_type": "code",
   "execution_count": null,
   "metadata": {},
   "outputs": [],
   "source": [
    "\n",
    "def manejar_errores(funcion):\n",
    "    def wrapper(*args, **kwargs):\n",
    "        try:\n",
    "            resultado = funcion(*args, **kwargs)\n",
    "            return resultado\n",
    "        except Exception as e:\n",
    "            print(f\"Error en {funcion.__name__}: {e}\")\n",
    "            # Puedes tomar acciones adicionales aquí si es necesario\n",
    "            return None\n",
    "    return wrapper\n",
    "\n",
    "@manejar_errores\n",
    "def funcion_propensa_a_errores():\n",
    "    raise ValueError(\"¡Algo salió mal!\")\n",
    "\n",
    "funcion_propensa_a_errores()\n"
   ]
  },
  {
   "cell_type": "markdown",
   "metadata": {},
   "source": [
    "Estos son solo ejemplos simples, pero demuestran cómo los decoradores pueden encapsular funcionalidades comunes y mejorar la modularidad y legibilidad del código. Puedes crear decoradores más complejos según tus necesidades específicas."
   ]
  }
 ],
 "metadata": {
  "language_info": {
   "name": "python"
  }
 },
 "nbformat": 4,
 "nbformat_minor": 2
}
