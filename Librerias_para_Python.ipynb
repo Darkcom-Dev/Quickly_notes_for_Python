{
 "cells": [
  {
   "cell_type": "markdown",
   "metadata": {},
   "source": [
    "# Librerias para Python\n",
    "\n",
    "### Interfaces gráficas comunes.\n",
    "\n",
    "- **GTK:** Gimp ToolKit Win/Mac/Linux - Xfce - C/Javascript/Perl/Python/Rust/Vala.\n",
    "- **TKinter:** Win/Mac/Linux - Dinamicos - Perl/Python/Ruby/PHP Nativos -C/C++/Java.\n",
    "- **PyQt5:** Win/Mac/Linux - C/C++/C#/SystemC/QML/Tcl.\n",
    "- **Kivy:** Win/Linux GUI para Android y iPhone.\n",
    "- wxPython: GUI toolkit que se dice es mejor que tkinter.\n",
    "-----------"
   ]
  },
  {
   "cell_type": "markdown",
   "metadata": {},
   "source": [
    "\n",
    "### Interfaces de consola o (CLI Command Line Interfaces)\n",
    "\n",
    "- **argparse:** libreria estandar para parsear comandos.\n",
    "\n",
    "curses es muy viejo y ya no tiene soporte, en su lugar esta ncurses o urwid.\n",
    "\n",
    "- **urwid:** tiene mas soporte.\n",
    "- npyscreen: ???\n",
    "- curtsies: ???\n",
    "- Python Prompt Toolkit: ???\n",
    "\n",
    "- fcntl\n",
    "- pyInquirer\n",
    "- win32API\n",
    "- Click\n",
    "- Dockopt\n",
    "- pyFiglet: convierte texto en dibujos de caracteres ascii\n",
    "- Clint\n",
    "----------------"
   ]
  },
  {
   "cell_type": "markdown",
   "metadata": {},
   "source": [
    "\n",
    "### Otras herramientas CLI para Python\n",
    "\n",
    "- Cement: proporciona fundaciones para construir cualquier cosa, desde un script basico a un complejo.\n",
    "- Cliff: framework para construir programas de lineas de comandos.\n",
    "- Plac: simple wraper que usa argparse ocultando complejidad usando decoradores.\n",
    "- EmailCLI: framework para mandar correos en command line Interface.\n",
    "-----------------"
   ]
  },
  {
   "cell_type": "markdown",
   "metadata": {},
   "source": [
    "\n",
    "### Convertir Python en Ejecutables\n",
    "\n",
    "#### Para windows: \n",
    "**Auto py to exe:** pip install auto-py-to-exe.\n",
    "\n",
    "#### Desde linux:\n",
    "- **Buildozer:** convierte python a apk, pero solo admite la interfaz Kivy.\n",
    "- **pyinstaller:** genera .exe o tar.gz dependiendo del sistema operativo.\n",
    "\n",
    "- **cx_Freeze:** Multiplataforma.\n",
    "- **py2exe:** Solo funciona en windows.\n",
    "\n",
    "------------------------------------\n"
   ]
  },
  {
   "cell_type": "markdown",
   "metadata": {},
   "source": [
    "### Otras librerias recomendadas.\n",
    "\n",
    "- **Requests:** Libreria HTTP famosa, ya viene instalada por defecto y tiene soporte a varios lenguajes.\n",
    "- Scrapy: Libreria de webscraping.\n",
    "- Scrapy: Un sencillo analizador de python desarrollado con python.???\n",
    "\n",
    "\n",
    "- **SQLAlchemy:** Bibloteca polemica para gestionar bases de datos, muchos la aman otros la odian.\n",
    "- PeeWee: Un ORM como SQLAlchemy, mas facil de aprender y tambien esta capacitado para manejar SQLite, Postgress y MySQL, util con django.\n",
    "\n",
    "- BeautifulSoup: buena para parsear XML y html, util para comenzar a programar\n",
    "pandas: Buenisima para manejar datos CSV y JSON.\n",
    "psycopg2: Gentiona PostgresSQL.\n",
    "pygame: Libreria de juegos.\n",
    "\n",
    "- reportlab: Libreria para crear archivos PDF\n",
    "- Twisted: Herramienta para desarrolladores de aplicaciones de red ???\n",
    "\n",
    "- numpy: ofrece funcionalidades matematicas\n",
    "- SciPy: Funcionalidades matematicas para cientificos.\n",
    "- Sympy: Hace evaluaciones algebraicas, expansiones, calculos de numeros complejos.\n",
    "- Numba: Traduce funciones optimizadas que corre en LLVM maquina. virtual, es matematica, usa decoradores.\n",
    "- Scikit-Learn: Inteligencia artificial.\n",
    "- TensorFlow: Inteligencia artificial.\n",
    "- Keras: Inteligencia artificial.\n",
    "- PyTorch: Inteligencia artificial.\n",
    "- SHAP: Inteligencia artificial.\n",
    "\n",
    "- matplotlib: Biblioteca de trazado numerico, util para cientificos de datos.\n",
    "- Seaborn: Lo mismo que matplotlib pero mas bonito.\n",
    "- Bokeh: Lo mismo que matplotlib pero para paginas web.\n",
    "- Pyglet: motor de animacion y creacion de juegos 3D, el responsable de minecraft.\n",
    "- pyQT: Conjunto de herramientas GUI basado en QT.\n",
    "- pyGTK: Conjunto de herramientas GUI basado en Gimp Tool Kit.\n",
    "\n",
    "- pygobject: Alternativa a pyGTK.\n",
    "- pywin32: Proporciona metodos utiles para windows.\n",
    "- NTLK: Libreria para manipular cadenas, (Natural Lengage Tool Kit)\n",
    "- Gensim: Libreria de Lenguaje Natural.\n",
    "- SpaCy: Lenguaje Natural mas rapido de todos.\n",
    "- nose: Framework de testing para python, libreria de test unitarios y similares.\n",
    "- IPython: Aumenta las capacidades de Python.\n"
   ]
  },
  {
   "cell_type": "code",
   "execution_count": null,
   "metadata": {},
   "outputs": [],
   "source": []
  }
 ],
 "metadata": {
  "language_info": {
   "name": "python"
  }
 },
 "nbformat": 4,
 "nbformat_minor": 2
}
