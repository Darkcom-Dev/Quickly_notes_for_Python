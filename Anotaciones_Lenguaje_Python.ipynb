{
 "cells": [
  {
   "cell_type": "markdown",
   "metadata": {},
   "source": [
    "\n",
    "# Anotaciones lenguaje Python\n",
    "\n",
    "Esta son algunas caracteristicas curiosas que he descubierto acerca del lenguaje.\n",
    "\n",
    "#### Asignar multiples variables con un mismo valor\n",
    "\n",
    "Es algo curioso que no he visto en otros lenguajes, el poder asignar un valor a distintas variables y en una unica linea"
   ]
  },
  {
   "cell_type": "code",
   "execution_count": 1,
   "metadata": {},
   "outputs": [
    {
     "name": "stdout",
     "output_type": "stream",
     "text": [
      "x 5 y 5 z 5\n"
     ]
    }
   ],
   "source": [
    "\n",
    "# Asignar multiples variables con el mismo valor \n",
    "x=y=z=5\n",
    "print('x',x,'y',y,'z',z)"
   ]
  },
  {
   "cell_type": "markdown",
   "metadata": {},
   "source": [
    "#### Desempaquetar una lista.\n",
    "\n",
    "Algo que he visto en comun en lenguajes modernos de alto nivel es la posibilidad de tomar los valores de una lista y asignarlos a variables independientes."
   ]
  },
  {
   "cell_type": "code",
   "execution_count": null,
   "metadata": {},
   "outputs": [],
   "source": [
    "\n",
    "# Desempaquetar una lista \n",
    "fruits = [\"banana\",\"apple\",\"cherry\"]\n",
    "x,y,z = fruits\n"
   ]
  },
  {
   "cell_type": "markdown",
   "metadata": {},
   "source": [
    "#### Números Complejos.\n",
    "\n",
    "Python es uno de los lenguajes preferidos por los matemáticos porque soporta conjuntos de números a parte de enteros y reales."
   ]
  },
  {
   "cell_type": "code",
   "execution_count": null,
   "metadata": {},
   "outputs": [],
   "source": [
    "\n",
    "# Es posible convertir enteros a numeros complejos \n",
    "i = 5\n",
    "c = complex(i)\n"
   ]
  },
  {
   "cell_type": "markdown",
   "metadata": {},
   "source": [
    "#### Operador ternario.\n",
    "\n",
    "Muchos lenguajes tienen la manera de crear un operador ternario, pero la manera de construir un operador ternario en Python es distinto a otros lenguajes.\n",
    "\n",
    "> Nota: Usar operadores ternarios es una buena practica."
   ]
  },
  {
   "cell_type": "code",
   "execution_count": null,
   "metadata": {},
   "outputs": [],
   "source": [
    "\n",
    "# Operador ternario\n",
    "edad = 13\n",
    "if edad < 18:\n",
    "\tprint('Eres menor de edad')\n",
    "else:\n",
    "\tprint('Eres mayor de edad')\n",
    "# La manera de simplificar esto es asi\n",
    "\n",
    "print('Eres menor de edad' if edad < 18 else 'Eres mayor de edad')\n"
   ]
  },
  {
   "cell_type": "markdown",
   "metadata": {},
   "source": [
    "#### Una manera mas eficiente de crear un switcch.\n",
    "\n",
    "Aqui tenemos un ejemplo de una interfaz tipica de un CRUD para el manejo de una base de datos"
   ]
  },
  {
   "cell_type": "code",
   "execution_count": null,
   "metadata": {},
   "outputs": [],
   "source": [
    "def login():\n",
    "    pass\n",
    "def registrarse():\n",
    "    pass\n",
    "def eliminar():\n",
    "    pass\n",
    "def actualizar():\n",
    "    pass\n",
    "def salir():\n",
    "    pass\n",
    "\n",
    "opcion = 0"
   ]
  },
  {
   "cell_type": "markdown",
   "metadata": {},
   "source": [
    "A continuacion un flujo típico, normal de toda la vida"
   ]
  },
  {
   "cell_type": "code",
   "execution_count": null,
   "metadata": {},
   "outputs": [],
   "source": [
    "\n",
    "\n",
    "# Hay una forma de simplificar los if elif else con listas o diccionarios\n",
    "\n",
    "if opcion == 1:\n",
    "\tlogin()\n",
    "elif opcion == 2:\n",
    "\tregistrarse()\n",
    "elif opcion == 3:\n",
    "\teliminar()\n",
    "elif opcion == 4:\n",
    "\tactualizar()\n",
    "else:\n",
    "\tsalir()\n",
    "\t\n"
   ]
  },
  {
   "cell_type": "markdown",
   "metadata": {},
   "source": [
    "Ahora la manera profesional de hacerlo, usando un diccionario."
   ]
  },
  {
   "cell_type": "code",
   "execution_count": null,
   "metadata": {},
   "outputs": [],
   "source": [
    "# La manera de hacerlo rapido con un diccionario es la siguiente:\n",
    "\n",
    "actions = {\n",
    "\t1: login,\n",
    "\t2: registrarse,\n",
    "\t3: eliminar,\n",
    "\t4: actualizar\n",
    "}\n",
    "\n",
    "if opcion in actions:\n",
    "\tactions[opcion]()\n",
    "else:\n",
    "\tsalir()\n"
   ]
  },
  {
   "cell_type": "markdown",
   "metadata": {},
   "source": [
    "#### Estructuras de datos.\n",
    "\n",
    "En programación existe el termino FILO y FIFO, a menudo hay listas que son mas eficientes agregando y eliminando el ultimo valor de la lista, pero eliminar o insertar un elemento al inicio o en medio de la lista es ineficiente, por eso existen estructuras de datos como las Pilaas y lasColar para distintos casos de uso.\n",
    "\n",
    "A continuación una manera comun de agregar o insertar elementos a una lista."
   ]
  },
  {
   "cell_type": "code",
   "execution_count": null,
   "metadata": {},
   "outputs": [],
   "source": [
    "\n",
    "# Estructuras de datos\n",
    "# Algunas estructuras son las Pilas y las Colas, lo primero que se te viene a la cabeza es usar una lista\n",
    "\n",
    "nums = []\n",
    "for num in range(100000):\n",
    "\t# Esto es rapido\n",
    "\tnums.append(num)\n",
    "\n",
    "nums = []\n",
    "for num in range(100000):\n",
    "\t# Esto es lento\n",
    "\tnums.insert(0,num)\n",
    "\t\n"
   ]
  },
  {
   "cell_type": "markdown",
   "metadata": {},
   "source": [
    "Existe una estructura de datos llamado `Deque` que es un tipo de lista especial, que es eficiente agregando y eliminando elementos de una lista.\n",
    "\n",
    "A continuación es un ejemplo:"
   ]
  },
  {
   "cell_type": "code",
   "execution_count": null,
   "metadata": {},
   "outputs": [],
   "source": [
    "# la solucion es usar una lista con doble entrada llamado deque\n",
    "from collections import deque\n",
    "\n",
    "mi_deque = deque()\n",
    "for num in range(100000):\tmi_deque.append(num)\n",
    "for num in range(100000):\tmi_deque.appendLeft(num)\n",
    "for num in range(100000):\tmi_deque.pop()\n",
    "for num in range(100000):\tmi_deque.popLeft()\n"
   ]
  }
 ],
 "metadata": {
  "kernelspec": {
   "display_name": "Python 3",
   "language": "python",
   "name": "python3"
  },
  "language_info": {
   "codemirror_mode": {
    "name": "ipython",
    "version": 3
   },
   "file_extension": ".py",
   "mimetype": "text/x-python",
   "name": "python",
   "nbconvert_exporter": "python",
   "pygments_lexer": "ipython3",
   "version": "3.9.2"
  }
 },
 "nbformat": 4,
 "nbformat_minor": 2
}
