{
 "cells": [
  {
   "cell_type": "markdown",
   "metadata": {},
   "source": [
    "### Funcion dir() de Python\n",
    "'__annotations__', '__builtins__', '__doc__', '__loader__', '__name__', '__package__', '__spec__'\n",
    "\n"
   ]
  },
  {
   "cell_type": "markdown",
   "metadata": {},
   "source": [
    "\n",
    "### Crea tu propio chat con open AI\n",
    "\n",
    "[http://openai.com/blog/introducing-chatgpt-and-whisper-apis](Uso de api gpt)\n",
    "[https://platform.openai.com](OpenAI platform)\n",
    "[https://github.com/openai/openai-python](github python)\n",
    "[https://platform.openai.com/docs/api-reference/chat](Chat completion)\n",
    "[https://gist.github.com/mouredev/58abfbcef017efaf3852e8821564c011](moure-dev)\n"
   ]
  },
  {
   "cell_type": "markdown",
   "metadata": {},
   "source": [
    "\n",
    "### Librerias para inteligencia artificial.\n",
    "\n",
    "- Tensor Flow : Aprendizaje automatico\n",
    "- Scikit learn : Aprendizaje automatico.\n",
    "- Pandas : Analisis de datos.\n",
    "- Numpy : Matematicas.\n",
    "- Keras : Redes neuronales.\n",
    "- Nltk : Procesamiento de lenguaje natural\n"
   ]
  },
  {
   "cell_type": "markdown",
   "metadata": {},
   "source": [
    "\n",
    "### Algoritmos par inteligencia artificial\n",
    "* Regresion\n",
    "* Red neuronal\n",
    "* Agrupacion\n",
    "* Arbol de decision\n",
    "* Bayesiano\n",
    "* Reduccion de dimension\n",
    "* Aprendizaje profundo.\n"
   ]
  },
  {
   "cell_type": "markdown",
   "metadata": {},
   "source": [
    "\n",
    "### Distintas ramas de la inteligencia artificial.\n",
    "\n",
    "* Big data y mineria: scraping y recopilacion de datos, para aplicar a la ia\n",
    "* Machine learning: sistemas que aprenden automaticamente.\n",
    "* Deep learning: mas sofisticado que ML.\n",
    "* Computer vision: reconocimiento de objetos faciales, señales etc.\n",
    "* ChatBots y procesamiento del lenguaje natural."
   ]
  }
 ],
 "metadata": {
  "language_info": {
   "name": "python"
  }
 },
 "nbformat": 4,
 "nbformat_minor": 2
}
