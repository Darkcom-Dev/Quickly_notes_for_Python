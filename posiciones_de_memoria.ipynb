{
 "cells": [
  {
   "cell_type": "markdown",
   "metadata": {},
   "source": [
    "# Posicion de memoria\n",
    "\n",
    "Claro, la función `id()` en Python devuelve el identificador único de un objeto. \n",
    "Cada objeto tiene su propio identificador único en la memoria de Python. \n",
    "\n",
    "Aquí hay un ejemplo simple:\n"
   ]
  },
  {
   "cell_type": "code",
   "execution_count": null,
   "metadata": {},
   "outputs": [],
   "source": [
    "\n",
    "# Crear dos variables que contengan el mismo valor\n",
    "x = 10\n",
    "y = 10\n",
    "\n",
    "# Obtener los identificadores de las dos variables\n",
    "print(id(x))\n",
    "print(id(y))\n",
    "\n",
    "\"\"\"\n",
    "La salida de este código será el mismo identificador para ambas variables, \n",
    "porque Python optimiza la memoria para números enteros pequeños y \n",
    "las variables `x` e `y` en realidad apuntan a la misma ubicación de memoria:\n",
    "\n",
    "```\n",
    "140712883509328\n",
    "140712883509328\n",
    "```\n",
    "\"\"\"\n"
   ]
  },
  {
   "cell_type": "markdown",
   "metadata": {},
   "source": [
    "### Segundo ejemplo\n",
    "\n",
    "Sin embargo, si cambiamos el valor de una de las variables, como en el siguiente ejemplo, \n",
    "entonces el identificador cambiará porque ahora Python debe asignar una nueva ubicación de memoria para el nuevo valor:\n"
   ]
  },
  {
   "cell_type": "code",
   "execution_count": null,
   "metadata": {},
   "outputs": [],
   "source": [
    "\n",
    "\n",
    "# Cambiar el valor de la variable x\n",
    "x = 20\n",
    "\n",
    "# Obtener los identificadores de las dos variables\n",
    "print(id(x))\n",
    "print(id(y))\n",
    "\n",
    "\"\"\"\n",
    "La salida de este código será diferente para cada variable, \n",
    "porque ahora apuntan a ubicaciones de memoria diferentes:\n",
    "\n",
    "```\n",
    "140712883509648\n",
    "140712883509328\n",
    "```\n",
    "\"\"\"\n"
   ]
  },
  {
   "cell_type": "markdown",
   "metadata": {},
   "source": [
    "\n",
    "### Otros tipos de datos:\n",
    "\n",
    "Hay otro typo de datos interesantes y poco conocido en python\n",
    "- Set\n",
    "- FrozenSet\n",
    "- Byte_array\n",
    "- Memory_view\n"
   ]
  },
  {
   "cell_type": "code",
   "execution_count": 1,
   "metadata": {},
   "outputs": [
    {
     "name": "stdout",
     "output_type": "stream",
     "text": [
      "<class 'bytes'>\n"
     ]
    }
   ],
   "source": [
    "\n",
    "data_byte = b\"Probando\"\n",
    "print(type(data_byte))"
   ]
  }
 ],
 "metadata": {
  "kernelspec": {
   "display_name": "Python 3",
   "language": "python",
   "name": "python3"
  },
  "language_info": {
   "codemirror_mode": {
    "name": "ipython",
    "version": 3
   },
   "file_extension": ".py",
   "mimetype": "text/x-python",
   "name": "python",
   "nbconvert_exporter": "python",
   "pygments_lexer": "ipython3",
   "version": "3.9.2"
  }
 },
 "nbformat": 4,
 "nbformat_minor": 2
}
