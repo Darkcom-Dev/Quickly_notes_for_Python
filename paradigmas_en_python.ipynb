{
 "cells": [
  {
   "cell_type": "markdown",
   "metadata": {},
   "source": [
    "\n",
    "# Paradigmas en python\n",
    "---\n",
    "En Python, existen varios paradigmas de programación que se pueden utilizar, un paradigma es un enfoque o una manera de pensar la forma de ejecutar el código, Python no es un lenguaje que aplique un solo paradigma y por tanto no tiene un enfoque puro a un paradigma como pudiera ser el lenguaje **Lisp**, en el fondo Python sigue el paradigma imperativo, a continuación los paradigmas que se pueden aplicar en Python:\n",
    "\n",
    "1. **Programación imperativa:** Este paradigma se centra en la definición de instrucciones que se ejecutan **secuencialmente** para modificar el estado de una aplicación. En Python, se puede escribir código imperativo utilizando estructuras como bucles for y while, y condicionales como if y else.\n",
    "\n",
    "2. **Programación orientada a objetos:** Este paradigma se centra en la creación de objetos que encapsulan datos y comportamientos relacionados. En Python, se pueden definir clases y objetos utilizando la palabra clave class, y se pueden utilizar técnicas como la herencia y el polimorfismo.\n",
    "\n",
    "3. **Programación funcional:** Este paradigma se centra en la definición de funciones que no tienen efectos secundarios y que se pueden utilizar como bloques de construcción para construir programas más grandes. En Python, se pueden utilizar funciones de orden superior, expresiones lambda, y técnicas de programación funcional como map, filter, y reduce.\n",
    "\n",
    "4. **Programación concurrente:** Este paradigma se centra en la ejecución simultánea de múltiples tareas o procesos. En Python, se pueden utilizar módulos como threading y multiprocessing para crear programas concurrentes.\n",
    "\n",
    "5. **Programación asincrónica:** Este paradigma se centra en la ejecución no bloqueante de múltiples tareas o procesos, utilizando técnicas como corutinas y asyncio. En Python, se puede utilizar el módulo asyncio para crear programas asincrónicos.\n"
   ]
  },
  {
   "cell_type": "markdown",
   "metadata": {},
   "source": [
    "\n",
    "## Ejemplo de paradigma declarativo vs imperativo\n",
    "Ejemplo en paradigma declarativo: \n",
    "\n",
    "Supongamos que queremos obtener una lista con los números pares de 1 a 10. En un enfoque declarativo, podríamos utilizar una comprensión de lista para construir la lista de manera más legible y concisa:\n"
   ]
  },
  {
   "cell_type": "code",
   "execution_count": 8,
   "metadata": {},
   "outputs": [
    {
     "name": "stdout",
     "output_type": "stream",
     "text": [
      "[2, 4, 6, 8, 10]\n"
     ]
    }
   ],
   "source": [
    "pares = [num for num in range(1,11) if num % 2 == 0]\n",
    "print(pares)\n"
   ]
  },
  {
   "cell_type": "markdown",
   "metadata": {},
   "source": [
    "\n",
    "Este código crea una lista llamada `pares` que contiene los números pares de 1 a 10. La expresión `[num for num in range(1,11) if num % 2 == 0]` es una comprensión de lista que utiliza una expresión generadora para crear una lista a partir de los números del 1 al 10 que son divisibles por 2.\n",
    "\n",
    "Ejemplo en paradigma imperativo:\n",
    "\n",
    "En un enfoque imperativo, podríamos utilizar un bucle for y una lista temporal para construir la lista de números pares:\n"
   ]
  },
  {
   "cell_type": "code",
   "execution_count": 7,
   "metadata": {},
   "outputs": [
    {
     "name": "stdout",
     "output_type": "stream",
     "text": [
      "[2, 4, 6, 8, 10]\n"
     ]
    }
   ],
   "source": [
    "pares = []\n",
    "for num in range(1,11):\n",
    "    if num % 2 == 0:\n",
    "        pares.append(num)\n",
    "print(pares)\n"
   ]
  },
  {
   "cell_type": "markdown",
   "metadata": {},
   "source": [
    "\n",
    "Este código crea una lista llamada `pares` que contiene los números pares de 1 a 10. El bucle for itera a través de los números del 1 al 10, y el condicional if verifica si cada número es divisible por 2. Si es así, se agrega a la lista temporal `pares` utilizando el método `append()`. Al final, se imprime la lista `pares`.\n"
   ]
  },
  {
   "cell_type": "markdown",
   "metadata": {},
   "source": [
    "\n",
    "## Otro ejemplo:\n",
    "---\n",
    "Ejemplo en paradigma declarativo:\n",
    "\n",
    "Supongamos que tenemos una lista de números enteros y queremos obtener una nueva lista que contenga solo los números impares. En un enfoque declarativo, podríamos utilizar una comprensión de lista para construir la lista de manera más legible y concisa:\n"
   ]
  },
  {
   "cell_type": "code",
   "execution_count": 6,
   "metadata": {},
   "outputs": [
    {
     "name": "stdout",
     "output_type": "stream",
     "text": [
      "[3, 5, 9, 15, 21]\n"
     ]
    }
   ],
   "source": [
    "\n",
    "numeros = [3, 5, 8, 9, 12, 15, 18, 21]\n",
    "impares = [num for num in numeros if num % 2 != 0]\n",
    "print(impares)\n"
   ]
  },
  {
   "cell_type": "markdown",
   "metadata": {},
   "source": [
    "\n",
    "Este código crea una lista llamada `impares` que contiene los números impares de la lista `numeros`. La expresión `[num for num in numeros if num % 2 != 0]` es una comprensión de lista que utiliza una expresión generadora para crear una lista a partir de los números en `numeros` que no son divisibles por 2.\n",
    "\n",
    "Ejemplo en paradigma imperativo:\n",
    "\n",
    "En un enfoque imperativo, podríamos utilizar un bucle for y una lista temporal para construir la lista de números impares:\n"
   ]
  },
  {
   "cell_type": "code",
   "execution_count": 5,
   "metadata": {},
   "outputs": [
    {
     "name": "stdout",
     "output_type": "stream",
     "text": [
      "[3, 5, 9, 15, 21]\n"
     ]
    }
   ],
   "source": [
    "\n",
    "numeros = [3, 5, 8, 9, 12, 15, 18, 21]\n",
    "impares = []\n",
    "for num in numeros:\n",
    "    if num % 2 != 0:\n",
    "        impares.append(num)\n",
    "print(impares)\n"
   ]
  },
  {
   "cell_type": "markdown",
   "metadata": {},
   "source": [
    "\n",
    "Este código crea una lista llamada `impares` que contiene los números impares de la lista `numeros`. El bucle for itera a través de los números en `numeros`, y el condicional if verifica si cada número es divisible por 2. Si no es así, se agrega a la lista temporal `impares` utilizando el método `append()`. Al final, se imprime la lista `impares`.\n"
   ]
  },
  {
   "cell_type": "markdown",
   "metadata": {},
   "source": [
    "\n",
    "## Paradigma funcional vs imperativo.\n",
    "---\n",
    "### Ejemplo en paradigma funcional:\n",
    "\n",
    "Supongamos que queremos calcular la suma de los cuadrados de los números en una lista. En un enfoque funcional, podríamos utilizar la función `map()` para aplicar una función de transformación a cada elemento de la lista, y luego utilizar la función `reduce()` para combinar los elementos en un solo valor:\n"
   ]
  },
  {
   "cell_type": "code",
   "execution_count": 4,
   "metadata": {},
   "outputs": [
    {
     "name": "stdout",
     "output_type": "stream",
     "text": [
      "55\n"
     ]
    }
   ],
   "source": [
    "\n",
    "from functools import reduce\n",
    "\n",
    "numeros = [1, 2, 3, 4, 5]\n",
    "cuadrados = map(lambda x: x**2, numeros)\n",
    "suma_cuadrados = reduce(lambda x, y: x + y, cuadrados)\n",
    "print(suma_cuadrados)\n"
   ]
  },
  {
   "cell_type": "markdown",
   "metadata": {},
   "source": [
    "\n",
    "Este código utiliza la función `map()` para aplicar la función `lambda x: x**2` a cada elemento de la lista `numeros`, lo que devuelve una lista de los cuadrados de los números. Luego, utiliza la función `reduce()` para sumar los elementos de la lista `cuadrados`, lo que devuelve la suma de los cuadrados de los números.\n"
   ]
  },
  {
   "cell_type": "markdown",
   "metadata": {},
   "source": [
    "\n",
    "### Ejemplo en paradigma imperativo:\n",
    "\n",
    "En un enfoque imperativo, podríamos utilizar un bucle for y una variable acumuladora para calcular la suma de los cuadrados de los números en una lista:\n"
   ]
  },
  {
   "cell_type": "code",
   "execution_count": 3,
   "metadata": {},
   "outputs": [
    {
     "name": "stdout",
     "output_type": "stream",
     "text": [
      "55\n"
     ]
    }
   ],
   "source": [
    "\n",
    "numeros = [1, 2, 3, 4, 5]\n",
    "suma_cuadrados = 0\n",
    "for num in numeros:\n",
    "    cuadrado = num ** 2\n",
    "    suma_cuadrados += cuadrado\n",
    "print(suma_cuadrados)\n"
   ]
  },
  {
   "cell_type": "markdown",
   "metadata": {},
   "source": [
    "\n",
    "\n",
    "Este código utiliza un bucle for para iterar a través de los números en la lista `numeros`. Para cada número, calcula su cuadrado y lo agrega a la variable acumuladora `suma_cuadrados`. Al final del bucle, la variable `suma_cuadrados` contiene la suma de los cuadrados de los números en la lista.\n"
   ]
  },
  {
   "cell_type": "markdown",
   "metadata": {},
   "source": [
    "\n",
    "## Otro ejemplo funcional\n",
    "---\n",
    "### Ejemplo en paradigma funcional:\n",
    "\n",
    "Supongamos que queremos obtener una lista de los números que son múltiplos de 3 y 5 de una lista dada. En un enfoque funcional, podríamos utilizar la función `filter()` para seleccionar los elementos de la lista que cumplan cierta condición, y luego la función `map()` para aplicar una función de transformación a cada elemento seleccionado:\n"
   ]
  },
  {
   "cell_type": "code",
   "execution_count": 2,
   "metadata": {},
   "outputs": [
    {
     "name": "stdout",
     "output_type": "stream",
     "text": [
      "[30, 60, 90]\n"
     ]
    }
   ],
   "source": [
    "\n",
    "numeros = [15, 20, 25, 30, 35, 40, 45, 50]\n",
    "multiplos_3_5 = list(map(lambda x: x*2, filter(lambda x: x % 3 == 0 and x % 5 == 0, numeros)))\n",
    "print(multiplos_3_5)\n"
   ]
  },
  {
   "cell_type": "markdown",
   "metadata": {},
   "source": [
    "\n",
    "Este código utiliza la función `filter()` para seleccionar los números en `numeros` que son divisibles por 3 y 5, y luego la función `map()` para multiplicar cada número seleccionado por 2. El resultado es una lista de los números que son múltiplos de 3 y 5 en `numeros`, multiplicados por 2.\n"
   ]
  },
  {
   "cell_type": "markdown",
   "metadata": {},
   "source": [
    "\n",
    "### Ejemplo en paradigma imperativo:\n",
    "\n",
    "En un enfoque imperativo, podríamos utilizar un bucle for y una lista temporal para construir la lista de números múltiplos de 3 y 5:\n",
    "\n"
   ]
  },
  {
   "cell_type": "code",
   "execution_count": 1,
   "metadata": {},
   "outputs": [
    {
     "name": "stdout",
     "output_type": "stream",
     "text": [
      "[30, 60, 90]\n"
     ]
    }
   ],
   "source": [
    "numeros = [15, 20, 25, 30, 35, 40, 45, 50]\n",
    "multiplos_3_5 = []\n",
    "for num in numeros:\n",
    "    if num % 3 == 0 and num % 5 == 0:\n",
    "        multiplos_3_5.append(num*2)\n",
    "print(multiplos_3_5)\n"
   ]
  },
  {
   "cell_type": "markdown",
   "metadata": {},
   "source": [
    "\n",
    "Este código utiliza un bucle for para iterar a través de los números en `numeros`. Para cada número, verifica si es divisible por 3 y 5. Si es así, se agrega a la lista temporal `multiplos_3_5` multiplicado por 2 utilizando el método `append()`. Al final, se imprime la lista `multiplos_3_5`.\n"
   ]
  },
  {
   "cell_type": "markdown",
   "metadata": {},
   "source": [
    "\n",
    "## Ventajas y desventajas del enfoque funcional.\n",
    "---\n",
    "### Ventajas del enfoque funcional:\n",
    "- El código es más fácil de entender y mantener, ya que se enfoca en qué hace el programa, en lugar de cómo lo hace.\n",
    "- Los programas funcionales suelen ser más cortos y concisos que los programas imperativos equivalentes, lo que puede mejorar la legibilidad, disminuir los errores y aumentar la productividad.\n",
    "- La programación funcional promueve la modularidad y la reutilización de código, ya que las funciones se pueden componer y combinarse de forma modular.\n",
    "- Los programas funcionales son más fáciles de testear, ya que las funciones son independientes de su entorno y no tienen efectos secundarios.\n",
    "\n",
    "### Desventajas del enfoque funcional:\n",
    "- Los programas funcionales pueden tener un rendimiento inferior en algunos casos, ya que las funciones se componen y combinan para realizar tareas complejas, lo que puede resultar en una sobrecarga de llamadas de función.\n",
    "- La programación funcional puede requerir un cambio de mentalidad para los programadores acostumbrados a la programación imperativa, lo que puede llevar tiempo y esfuerzo.\n",
    "- La programación funcional puede requerir la utilización de nuevas herramientas y técnicas, como las funciones de orden superior y las expresiones lambda, que pueden ser más difíciles de entender para los programadores principiantes.\n",
    "- Algunos problemas pueden ser más difíciles de resolver con un enfoque funcional que con un enfoque imperativo, especialmente los problemas que requieren un seguimiento y modificación del estado del programa.\n"
   ]
  },
  {
   "cell_type": "markdown",
   "metadata": {},
   "source": [
    "# Paradigma Funcional\n",
    "\n",
    "Las funciones `map()`, `filter()` y `reduce()` son funciones de orden superior que pertenecen al paradigma de programación funcional. Este paradigma se centra en el uso de funciones puras, es decir, funciones que no tienen efectos secundarios y cuyo resultado depende únicamente de sus argumentos. En la programación funcional, se hace hincapié en el tratamiento de funciones como ciudadanos de primera clase, lo que significa que pueden ser pasadas como argumentos a otras funciones, devueltas como resultados de funciones y asignadas a variables.\n",
    "\n",
    "Aquí hay una breve descripción de cada una de estas funciones:\n",
    "\n",
    "- `map(función, iterable)`: Aplica la función proporcionada a cada elemento del iterable y devuelve un iterador con los resultados. Es una forma de aplicar una función a cada elemento de una colección sin la necesidad de escribir bucles explícitos.\n",
    "\n",
    "- `filter(función, iterable)`: Aplica la función proporcionada a cada elemento del iterable y devuelve un iterador que contiene solo los elementos para los cuales la función devuelve `True`. Es útil para filtrar elementos de una colección basándose en una condición dada por la función.\n",
    "\n",
    "- `reduce(función, iterable[, inicial])`: Aplica repetidamente la función proporcionada a los elementos del iterable, reduciendo la secuencia a un solo valor. Se requiere una función que tome dos argumentos y devuelva un solo valor. Es útil para realizar cálculos acumulativos sobre una colección, como la suma o el producto de todos los elementos.\n",
    "\n",
    "Estas funciones son fundamentales en la programación funcional y permiten escribir código más conciso y expresivo al aprovechar la composición de funciones y la inmutabilidad de datos."
   ]
  },
  {
   "cell_type": "markdown",
   "metadata": {},
   "source": [
    "# Map\n",
    "\n",
    "Map es una funcion que recibe dos listas y les aplica una funcion para retornar un resultado.\n",
    "\n"
   ]
  },
  {
   "cell_type": "code",
   "execution_count": 2,
   "metadata": {},
   "outputs": [],
   "source": [
    "import sys\n",
    "import operator"
   ]
  },
  {
   "cell_type": "code",
   "execution_count": 3,
   "metadata": {},
   "outputs": [],
   "source": [
    "def main(args):\n",
    "\tnumeros_A = [34,12,35,98,57,35,987,243,11]\n",
    "\tnumeros_B = [27,439,45,1,36,94,566,194,29,391]\n",
    "\tresultado = map(operator.__floordiv__,numeros_A, numeros_B)\n",
    "\tprint (*resultado)\n",
    "\treturn 0\n"
   ]
  },
  {
   "cell_type": "code",
   "execution_count": 4,
   "metadata": {},
   "outputs": [
    {
     "name": "stdout",
     "output_type": "stream",
     "text": [
      "1 0 0 98 1 0 1 1 0\n"
     ]
    },
    {
     "ename": "SystemExit",
     "evalue": "0",
     "output_type": "error",
     "traceback": [
      "An exception has occurred, use %tb to see the full traceback.\n",
      "\u001b[0;31mSystemExit\u001b[0m\u001b[0;31m:\u001b[0m 0\n"
     ]
    },
    {
     "name": "stderr",
     "output_type": "stream",
     "text": [
      "/home/darkcom/.local/lib/python3.9/site-packages/IPython/core/interactiveshell.py:3558: UserWarning: To exit: use 'exit', 'quit', or Ctrl-D.\n",
      "  warn(\"To exit: use 'exit', 'quit', or Ctrl-D.\", stacklevel=1)\n"
     ]
    }
   ],
   "source": [
    "if __name__ == '__main__':\n",
    "\tsys.exit(main(sys.argv))\n"
   ]
  },
  {
   "cell_type": "markdown",
   "metadata": {},
   "source": [
    "\n",
    "# Paradigma reflexivo\n",
    "\n",
    "El paradigma reflexivo se enfoca en la capacidad del mismo lenguaje de evaluarse, eliminarse, crearse, sobreescribirse y obtener informacion se si mismo, es un enfoque peligroso en malas manos porque puede dañar al mismo programa que lo contiene como dañar librerias nativas del mismo lenguaje Python y dejarlo inservible. Tambien el paradigma reflexivo es muy poco conocido y poco utilizado en la industria ya sea por razones de seguridad o porque no es una buena practica, sin embargo es amado por hackers.\n",
    "\n",
    "Sí, Python es un lenguaje de programación que permite un enfoque reflexivo. Python proporciona varias características que permiten la reflexión, incluyendo:\n",
    "\n",
    "1. La función `type()`, que permite la inspección de objetos y la obtención de su tipo.\n",
    "\n",
    "2. La función `dir()`, que permite la inspección de objetos y la obtención de sus atributos y métodos.\n",
    "\n",
    "3. La función `getattr()`, que permite la obtención de un atributo de un objeto utilizando su nombre como una cadena.\n",
    "\n",
    "4. La función `setattr()`, que permite la modificación de un atributo de un objeto utilizando su nombre como una cadena.\n",
    "\n",
    "5. La función `hasattr()`, que permite verificar si un objeto tiene un atributo específico.\n",
    "\n",
    "6. La función `exec()`, que permite la ejecución de código fuente en tiempo de ejecución.\n",
    "\n",
    "7. La función `eval()`, que permite la evaluación de expresiones en tiempo de ejecución.\n",
    "\n",
    "8. La función `del()` , elimina funciones, variables y clases.\n",
    "\n",
    "9. La biblioteca `inspect`, que proporciona herramientas para la inspección de objetos y la obtención de información sobre la estructura del código fuente.\n",
    "\n",
    "10. Las funciones mágicas en general. Estas funciones permiten crear clases mas flexibles y funcionales, que se sientan muy naturales al uso, como las operaciones de suma, resta, etc en nuevos tipos de dato. Para mas información vea Funciones mágicas\n",
    "\n",
    "> Nota: Todo en Python es un objeto, hasta los tipos de dato básicos **int, str, float, bool**\n",
    "\n",
    "Estas características permiten la reflexión en Python y se utilizan comúnmente en la creación de frameworks, librerías y herramientas para el análisis y la manipulación de código fuente en tiempo de ejecución. Sin embargo, es importante tener en cuenta que la reflexión puede ser peligrosa si se utiliza de manera incorrecta, ya que puede introducir errores y dificultar la comprensión y el mantenimiento del código."
   ]
  },
  {
   "cell_type": "markdown",
   "metadata": {},
   "source": [
    "#### Funcion All()\n",
    "\n",
    "La función `all()` en Python se utiliza para verificar si todos los elementos de un iterable (como una lista, tupla, conjunto, etc.) son evaluados como verdaderos. Devuelve `True` si todos los elementos son verdaderos y `False` si al menos uno de los elementos es falso o si el iterable está vacío.\n",
    "\n",
    "Aquí hay un ejemplo para ilustrar su uso:\n"
   ]
  },
  {
   "cell_type": "code",
   "execution_count": null,
   "metadata": {},
   "outputs": [],
   "source": [
    "\n",
    "# Ejemplo 1\n",
    "lista_verdadera = [True, True, True]\n",
    "print(all(lista_verdadera))  # Salida: True\n",
    "\n",
    "# Ejemplo 2\n",
    "lista_mixta = [True, False, True]\n",
    "print(all(lista_mixta))  # Salida: False\n",
    "\n",
    "# Ejemplo 3\n",
    "lista_vacia = []\n",
    "print(all(lista_vacia))  # Salida: True (ya que no hay elementos falsos en una lista vacía)\n"
   ]
  },
  {
   "cell_type": "markdown",
   "metadata": {},
   "source": [
    "\n",
    "En resumen, `all()` devuelve `True` si todos los elementos del iterable son evaluados como verdaderos, y `False` en cualquier otro caso."
   ]
  }
 ],
 "metadata": {
  "kernelspec": {
   "display_name": "Python 3",
   "language": "python",
   "name": "python3"
  },
  "language_info": {
   "codemirror_mode": {
    "name": "ipython",
    "version": 3
   },
   "file_extension": ".py",
   "mimetype": "text/x-python",
   "name": "python",
   "nbconvert_exporter": "python",
   "pygments_lexer": "ipython3",
   "version": "3.9.2"
  }
 },
 "nbformat": 4,
 "nbformat_minor": 2
}
