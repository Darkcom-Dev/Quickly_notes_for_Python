{
 "cells": [
  {
   "cell_type": "code",
   "execution_count": null,
   "metadata": {},
   "outputs": [],
   "source": []
  },
  {
   "cell_type": "markdown",
   "metadata": {},
   "source": [
    "# Git\n",
    "\n",
    "Git es un sistema de control de versiones para repositorios locales. Basicamente crea una carpeta especial donde estamos creando nuestro proyecto, donde guarda los cambios en los _\"archivos o ficheros\"_, no solamente cambios de **código**, tambien lo hace con cualquier tipo de archivo, tanto imágenes como videos.\n",
    "\n",
    "En mi opinion creo que Git está sobrevalorado, porque para una persona que trabaja en solitario, **no tiene mucho sentido su uso**, esto realmente es potente cuando se usa en equipo.\n",
    "\n",
    "## Primer reto: Saber si nuestro sistema tiene git instalado:\n",
    "\n",
    "Todas las distribuciones de Linux ya tiene git instalado en el sistema, pero en windows puede que no sea asi, lo primero que haremos es tratar de ejecutar git y ejecutar el comando que nos da su version.\n",
    "\n",
    "En este caso asumiré los siguientes pasos como si se hicieran desde una distribucion linux, porque es lo que tengo a mano. Si está usando **Windows** el procedimiento es similar, pero ya no me hago responsable."
   ]
  },
  {
   "cell_type": "code",
   "execution_count": 2,
   "metadata": {
    "vscode": {
     "languageId": "shellscript"
    }
   },
   "outputs": [
    {
     "name": "stdout",
     "output_type": "stream",
     "text": [
      "git version 2.30.2\n"
     ]
    }
   ],
   "source": [
    "%%bash\n",
    "git version\n"
   ]
  },
  {
   "cell_type": "markdown",
   "metadata": {},
   "source": [
    "En mi caso tengo la version 2.30.2, Si le arroja un numero de version quiere decir que ya lo tiene instalado y proceda a omitir la instalación.\n",
    "\n",
    "## Instalación de git en linux\n",
    "\n",
    "Si está instalando git desde Windows, descargue el ejecutable e instalelo.\n",
    "\n",
    "El siguiente comando ejecutelo desde una terminal, ya que jupyter no permite el comando **sudo** que otorga permisos de administrador."
   ]
  },
  {
   "cell_type": "code",
   "execution_count": null,
   "metadata": {
    "vscode": {
     "languageId": "shellscript"
    }
   },
   "outputs": [],
   "source": [
    "%%bash\n",
    "sudo apt install git"
   ]
  },
  {
   "cell_type": "markdown",
   "metadata": {},
   "source": [
    "## Creando el primer repositorio en local.\n",
    "\n",
    "- Cree una carpeta y nombrelo como quiera ('PostgreSQL_Dice_num_db'), este será la carpeta del proyecto.\n",
    "- Cree el archivo `requirements.txt` por si acaso usemos librerias de python.\n",
    "- Cree el archivo `.gitignore` para ignorar archivos y carpetas que pudieran\n",
    "- Abra una terminal en la misma carpeta del proyecto y escriba el comando `git init`, esto iniciará el reositorio.\n",
    "\n",
    "```bash\n",
    "hint: Using 'master' as the name for the initial branch. This default branch name\n",
    "hint: is subject to change. To configure the initial branch name to use in all\n",
    "hint: of your new repositories, which will suppress this warning, call:\n",
    "hint: \n",
    "hint:   git config --global init.defaultBranch <name>\n",
    "hint: \n",
    "hint: Names commonly chosen instead of 'master' are 'main', 'trunk' and\n",
    "hint: 'development'. The just-created branch can be renamed via this command:\n",
    "hint: \n",
    "hint:   git branch -m <name>\n",
    "\n",
    "```"
   ]
  }
 ],
 "metadata": {
  "kernelspec": {
   "display_name": "Python 3",
   "language": "python",
   "name": "python3"
  },
  "language_info": {
   "codemirror_mode": {
    "name": "ipython",
    "version": 3
   },
   "file_extension": ".py",
   "mimetype": "text/x-python",
   "name": "python",
   "nbconvert_exporter": "python",
   "pygments_lexer": "ipython3",
   "version": "3.9.2"
  }
 },
 "nbformat": 4,
 "nbformat_minor": 2
}
