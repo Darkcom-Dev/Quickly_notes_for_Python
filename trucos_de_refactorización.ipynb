{
 "cells": [
  {
   "cell_type": "markdown",
   "metadata": {},
   "source": [
    "# Trucos de refactorizacion.\n",
    "\n",
    "### Sin optimizar.\n",
    "Si tienes un if o un switch de python muy largo:\n",
    "\n",
    "```python\n",
    "\tif key == 97:\t\tself.text += 'A'\n",
    "\telif key == 98:\t\tself.text += 'B'\n",
    "\telif key == 99:\t\tself.text += 'C'\n",
    "\telif key == 100:\tself.text += 'D'\n",
    "\t....\n",
    "\telif key == 120:\tself.text += 'X'\n",
    "\telif key == 121:\tself.text += 'Y'\n",
    "\telif key == 122:\tself.text += 'Z'\n",
    "\telif key == 32:\t\tself.text += ' '\n",
    "\t....\n",
    "\telif key == 55:\t\tself.text += '7'\n",
    "\telif key == 56:\t\tself.text += '8'\n",
    "\telif key == 57:\t\tself.text += '9'\n",
    "\telif key == 8:\t\tself.text = self.text[0:-1]\n",
    "\telif key == 13:\t\tself.text += '\\n'\n",
    "```\n",
    "\n",
    "### Optimizado.\n",
    "Se puede simplificar con un diccionario como este:\n",
    "\n",
    "```python\n",
    "\t\t\n",
    "\tkey_mappings = {\n",
    "\t\t97: 'A', 98: 'B', 99: 'C', 100: 'D', 101: 'E',\n",
    "\t\t102: 'F', 103: 'G', 104: 'H', 105: 'I',\t106: 'J',\n",
    "\t\t107: 'K', 108: 'L',\t109: 'M', 110: 'N',\t111: 'O',\n",
    "\t\t112: 'P', 113: 'Q',\t114: 'R', 115: 'S',\t116: 'T',\n",
    "\t\t117: 'U', 118: 'V',\t119: 'W', 120: 'X',\t121: 'Y',\n",
    "\t\t122: 'Z', 32: ' ',\t48: '0', 49: '1', 50: '2',\n",
    "\t\t51: '3', 52: '4', 53: '5', 54: '6', 55: '7',\n",
    "\t\t56: '8', 57: '9', 8: '', 13: '\\n'\n",
    "\t}\n",
    "\t\t\n",
    "\tif key == 8:\n",
    "\t\tself.text = self.text[0:-1]\n",
    "\telif key in key_mappings:\n",
    "\t\tself.text += key_mappings[key]\n",
    "```\n"
   ]
  },
  {
   "cell_type": "markdown",
   "metadata": {},
   "source": [
    "\n",
    "# Tips de rendimiento\n",
    "\n",
    "Existen varios trucos y técnicas que se pueden utilizar para mejorar el rendimiento de la ejecución del código en Python. Algunos de ellos son los siguientes:\n",
    "\n",
    "1. Utilizar la biblioteca `numpy` para operaciones matemáticas y científicas. `numpy` utiliza matrices y vectores optimizados para mejorar el rendimiento de las operaciones.\n",
    "\n",
    "2. Utilizar la biblioteca `pandas` para la manipulación de datos y análisis de datos. `pandas` utiliza estructuras de datos optimizadas para mejorar el rendimiento de las operaciones.\n",
    "\n",
    "3. Utilizar la comprensión de listas en lugar de bucles for para operaciones simples de filtrado, mapeo y reducción de listas.\n",
    "\n",
    "4. Utilizar la función `join()` en lugar de la concatenación de cadenas para mejorar el rendimiento al trabajar con cadenas.\n"
   ]
  },
  {
   "cell_type": "markdown",
   "metadata": {},
   "source": [
    "\n",
    "5. Utilizar la función `enumerate()` en lugar de la indexación para mejorar el rendimiento al iterar sobre una lista y obtener el índice y el valor.\n"
   ]
  },
  {
   "cell_type": "code",
   "execution_count": null,
   "metadata": {},
   "outputs": [],
   "source": [
    "# Crear una lista de frutas\n",
    "frutas = ['manzana', 'banana', 'cereza', 'dátil']\n",
    "\n",
    "# Usar enumerate para obtener el índice y el valor de cada elemento en la lista\n",
    "for indice, fruta in enumerate(frutas):\n",
    "    print(f\"La fruta en la posición {indice} es {fruta}\")"
   ]
  },
  {
   "cell_type": "markdown",
   "metadata": {},
   "source": [
    "\n",
    "6. Utilizar la función `itertools` para generar secuencias iterables de manera eficiente.\n"
   ]
  },
  {
   "cell_type": "code",
   "execution_count": null,
   "metadata": {},
   "outputs": [],
   "source": [
    "import itertools\n",
    "\n",
    "# Generar todas las permutaciones de una lista\n",
    "lista = [1, 2, 3]\n",
    "permutaciones = list(itertools.permutations(lista))\n",
    "\n",
    "print(permutaciones)"
   ]
  },
  {
   "cell_type": "markdown",
   "metadata": {},
   "source": [
    "\n",
    "7. Utilizar la función `range()` en lugar de la creación de listas para generar secuencias numéricas.\n",
    "\n",
    "8. Evitar el uso excesivo de llamadas de función y expresiones lambda en bucles for y operaciones de filtrado y mapeo.\n",
    "\n",
    "9. Utilizar la compilación de expresiones regulares para mejorar el rendimiento al trabajar con cadenas.\n",
    "\n",
    "Estos son solo algunos de los trucos y técnicas que se pueden utilizar para mejorar el rendimiento de la ejecución del código en Python. Sin embargo, es importante tener en cuenta que la optimización prematura puede ser contraproducente y que el código legible y mantenible debe ser siempre la prioridad.\n"
   ]
  }
 ],
 "metadata": {
  "language_info": {
   "name": "python"
  }
 },
 "nbformat": 4,
 "nbformat_minor": 2
}
