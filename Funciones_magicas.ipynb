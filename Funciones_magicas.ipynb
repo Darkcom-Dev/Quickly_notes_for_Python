{
 "cells": [
  {
   "cell_type": "markdown",
   "metadata": {},
   "source": [
    "# Métodos mágicos\n",
    "\n",
    "En python todo es un objeto, incluso los tipos de valores primitivos como los enteros, flotantes, booleanos y strings, y con cada uno de estos datos primitivos se pueden aplicar operaciones de suma y multiplicacion, por ejemplo yo puedo sumar `10 + 5.0` y el resultado se 15.0, al igual que yo puedo sumar dos cadenas de texto `'dos' + 'tres'` esto seria igual a `dostres`.\n",
    "\n",
    "Y que tiene esto que ver con los métodos mágicos, pues que puedo hacer uso de estas funciones magicas para que mis clases personalizadas adquieran efectos de suma o resta etc, tambien se puede hacer comparaciones entre objetos usando funciones como lt, gt, ge, eq\n",
    "\n",
    "Metodos Magicos = https://docs.python.org/3/library/operator.html\n",
    "\n",
    "```python\n",
    "__add__() = suma\n",
    "__sub__() = resta\n",
    "__mul__() = multiplicacion\n",
    "__truediv__() = division con decimales\n",
    "__floordiv__() = division entera\n",
    "\n",
    "__lt__() para a < b.\n",
    "__gt__() para a > b.\n",
    "__le__() para a <= b.\n",
    "__ge__() para a >= b.\n",
    "__ne__() para a != b.\n",
    "__eq__() para a == b.\n",
    "```\n"
   ]
  }
 ],
 "metadata": {
  "kernelspec": {
   "display_name": "Python 3",
   "language": "python",
   "name": "python3"
  },
  "language_info": {
   "name": "python",
   "version": "3.9.2"
  }
 },
 "nbformat": 4,
 "nbformat_minor": 2
}
