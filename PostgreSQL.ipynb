{
 "cells": [
  {
   "cell_type": "markdown",
   "metadata": {},
   "source": [
    "Intallation and configuration for postgresql and pgadmin4\n",
    "===\n",
    "\n",
    "Postgresql\n",
    "---\n",
    "\n",
    "`sudo -u postgres psql` # psql inicia postgres: \n",
    "`sudo -u o --user postgres` # en este caso el usuario es postgres, usuario por defecto\n",
    "dentro de postgres la consola se ve algo asi como\n",
    "`postgres=#` # esto signidica que estoy dentro de postgres\n",
    "es necesario escribir una contraseña para el usuario postgres, casi obligatorio\n",
    "\n",
    "`postgres=# alter user postgres password 'admin'`\n",
    "debe salir ALTER ROLE, en este caso la contraseña es *admin*\n",
    "\n",
    "`\\l # lista las bases de datos`\n",
    "`\\q # sale de postgres`\n",
    "\n",
    "PgAdmin4\n",
    "---\n",
    "\n",
    "Some linux distributions not been updated, in my personal case only find pgadmin 3 in the store, but postgres is in the version\n",
    "4, when open pgadmin3 with postgres 4 cause incompatibilities. for install pgadmin 4:\n",
    "\n",
    "1. uninstall pgadmin 3 from store application.\n",
    "2. go for google and write \"pgadmin 4 for linux\" or go to next (link)[https://www.pgadmin.org/download/pgadmin-4-apt/] and follow\n",
    "the instructions.\n",
    "3. install the public key for repository `sudo curl https://www.pgadmin.org/static/packages_pgadmin_org.pub | sudo apt-key add`\n",
    "4. Create repository configuration file. `sudo sh -c 'echo \"deb https://ftp.postgresql.org/pub/pgadmin/pgadmin4/apt/$(lsb_release -cs) pgadmin4 main\" > /etc/apt/sources.list.d/pgadmin4.list && apt update'`\n",
    "5. Install pgAdmin4, they are 3 options `sudo apt install pgadmin4` for both options destop and web, `sudo apt install pgadmin4-desktop`\n",
    "only desktop and `sudo apt install pgadmin4-web` only web server\n",
    "6. Configure web server if you install pgadmin4-web. `sudo /usr/pgadmin4/bin/setup-web.sh`\n",
    "7. Save the passwords into a password manager.\n",
    "8. Procure that the password for pgAdmin web-server has been the same for pgAdmin desktop.\n"
   ]
  },
  {
   "cell_type": "code",
   "execution_count": null,
   "metadata": {},
   "outputs": [],
   "source": []
  }
 ],
 "metadata": {
  "language_info": {
   "name": "python"
  }
 },
 "nbformat": 4,
 "nbformat_minor": 2
}
